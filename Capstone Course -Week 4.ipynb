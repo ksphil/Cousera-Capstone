{
    "cells": [
        {
            "cell_type": "markdown",
            "metadata": {
                "collapsed": true
            },
            "source": "# New Korean Restaurant Location among 5 major cities in Midwest\n\n## St. Paul, MN, Chicago, IL, Indianapolis, IN, Detroit,MI, Columbus,OH \n***"
        },
        {
            "cell_type": "markdown",
            "metadata": {},
            "source": "Data Science Capstone Course "
        },
        {
            "cell_type": "markdown",
            "metadata": {},
            "source": "## Introduction\n***"
        },
        {
            "cell_type": "markdown",
            "metadata": {},
            "source": "We are trying to open a new Korean Restaurant in Midwest. However, Midwest cities are not as populated as coast cities.<br>\nTherefore, we consider only five cities. St. Paul, Chicago, Indianapolis, Detroit, and Columbus.<br>\n\nAnother factor we want to consider is competition. We don't want to open new restaurant where many Korean restaurants are located.<br>\n\nWe want to find a city where Korean restarants are spread out ranther than concentrated.<br>\nWe want to fidn a city with high Asain population. <br>\nWe want to fidn a city with small number of Korean restaurants <br>\nIn short, we want to find a city with lowest competition. "
        },
        {
            "cell_type": "markdown",
            "metadata": {},
            "source": "## Data\n***"
        },
        {
            "cell_type": "markdown",
            "metadata": {},
            "source": "I will use FourSqaure API to get the locations and Numbers of Korean restaurants in each cities."
        }
    ],
    "metadata": {
        "kernelspec": {
            "display_name": "Python 3.6",
            "language": "python",
            "name": "python3"
        },
        "language_info": {
            "codemirror_mode": {
                "name": "ipython",
                "version": 3
            },
            "file_extension": ".py",
            "mimetype": "text/x-python",
            "name": "python",
            "nbconvert_exporter": "python",
            "pygments_lexer": "ipython3",
            "version": "3.6.9"
        }
    },
    "nbformat": 4,
    "nbformat_minor": 1
}